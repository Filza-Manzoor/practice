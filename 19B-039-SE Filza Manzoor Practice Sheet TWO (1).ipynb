{
 "cells": [
  {
   "cell_type": "markdown",
   "metadata": {},
   "source": [
    "# FILZA MANZOOR (PRACTICE SHEET 2)"
   ]
  },
  {
   "cell_type": "markdown",
   "metadata": {},
   "source": [
    "# Question 1:\n",
    "Create a function to find the following: If the base of triangle is 3 cm long and its equilateral triangle and the radius of circle is 1.5 cm then find the area of triangle shaded."
   ]
  },
  {
   "cell_type": "code",
   "execution_count": 1,
   "metadata": {},
   "outputs": [
    {
     "name": "stdout",
     "output_type": "stream",
     "text": [
      "The area of shaded triangle is: 1.4292036732051034 cm\n"
     ]
    }
   ],
   "source": [
    "# time taken : 10 minutes\n",
    "def area_of_triangle():\n",
    "    from math import sqrt\n",
    "    side=3\n",
    "    area_of_tri=int((side**2)*sqrt(3)/4)\n",
    "    r=1.5\n",
    "    from math import pi\n",
    "    theta=pi/3\n",
    "    s=r*theta\n",
    "    shaded_area=area_of_tri-s\n",
    "    print(\"The area of shaded triangle is:\" , shaded_area ,\"cm\")\n",
    "area_of_triangle()"
   ]
  },
  {
   "cell_type": "markdown",
   "metadata": {},
   "source": [
    "# Question 2:\n",
    "Create a function which can read a dictionary of your family members such as 5 members. 1 Abbu, 1 Ammi, 2 Brothers 1 Sister. Now feed this data in dictionary in terms of name and relations. The UDF will ask findrelation() in this you will enter Brother it will return the names of two brothers you have inserted. In case if the relation is not found it will return “Sorry the relation doesn’t exist in your family.”"
   ]
  },
  {
   "cell_type": "code",
   "execution_count": 2,
   "metadata": {},
   "outputs": [
    {
     "name": "stdout",
     "output_type": "stream",
     "text": [
      "Find any relation: Brother\n",
      "{'Brother': 'M.Usman, M.Umer'}\n"
     ]
    }
   ],
   "source": [
    "# time taken : 7 minutes\n",
    "def findrelation(f,m,b,s):\n",
    "    f={\"Father\": \"Manzoor Ahmed\"}\n",
    "    m={\"Mother\": \"Mrs. Manzoor\"}\n",
    "    b={\"Brother\": \"M.Usman, M.Umer\"}\n",
    "    s={\"Sisters\":\"Nadia\"}\n",
    "    findrelation= (str(input(\"Find any relation: \")))\n",
    "    if findrelation in b:\n",
    "        print(b)\n",
    "    elif findrelation in f:\n",
    "        print(f)\n",
    "    elif findrelation in s:\n",
    "        print(s)\n",
    "    elif findrelation in m:   \n",
    "        print(m)\n",
    "    else:\n",
    "        print(\"“Sorry the relation doesn’t exist in your family.”\")\n",
    "findrelation('f','m','b','s')"
   ]
  },
  {
   "cell_type": "markdown",
   "metadata": {},
   "source": [
    "# Question 3: \n",
    "Create a function to find the following: If the base of triangle is 5 cm long and its equilateral triangle and the radius of circle is 2.25 cm then find the area of triangle shaded."
   ]
  },
  {
   "cell_type": "code",
   "execution_count": 3,
   "metadata": {},
   "outputs": [
    {
     "name": "stdout",
     "output_type": "stream",
     "text": [
      "The area of shaded triangle is: 7.643805509807655 cm\n"
     ]
    }
   ],
   "source": [
    "# time taken : 2 minutes\n",
    "def area_of_circle():\n",
    "    from math import sqrt\n",
    "    side=5\n",
    "    area_of_tri=int((side**2)*sqrt(3)/4)\n",
    "    r=2.25\n",
    "    from math import pi\n",
    "    theta=pi/3\n",
    "    s=r*theta\n",
    "    shaded_area=area_of_tri-s\n",
    "    print(\"The area of shaded triangle is:\" , shaded_area ,\"cm\")\n",
    "area_of_circle()"
   ]
  },
  {
   "cell_type": "markdown",
   "metadata": {},
   "source": [
    "# Question 4:\n",
    "Create a function that takes a list of random numbers from users and add only those which are even. If all the numbers are odd it will return sorry no even number found."
   ]
  },
  {
   "cell_type": "code",
   "execution_count": 4,
   "metadata": {},
   "outputs": [
    {
     "name": "stdout",
     "output_type": "stream",
     "text": [
      "Input a list of even numbers: 65354\n"
     ]
    },
    {
     "ename": "TypeError",
     "evalue": "'int' object is not iterable",
     "output_type": "error",
     "traceback": [
      "\u001b[1;31m---------------------------------------------------------------------------\u001b[0m",
      "\u001b[1;31mTypeError\u001b[0m                                 Traceback (most recent call last)",
      "\u001b[1;32m<ipython-input-4-5fb3dd2bb220>\u001b[0m in \u001b[0;36m<module>\u001b[1;34m\u001b[0m\n\u001b[0;32m      8\u001b[0m          \u001b[1;32melse\u001b[0m\u001b[1;33m:\u001b[0m\u001b[1;33m\u001b[0m\u001b[1;33m\u001b[0m\u001b[0m\n\u001b[0;32m      9\u001b[0m             \u001b[0mprint\u001b[0m\u001b[1;33m(\u001b[0m\u001b[1;34m\"sorry no even number found.\"\u001b[0m\u001b[1;33m)\u001b[0m\u001b[1;33m\u001b[0m\u001b[1;33m\u001b[0m\u001b[0m\n\u001b[1;32m---> 10\u001b[1;33m \u001b[0mlisty\u001b[0m\u001b[1;33m(\u001b[0m\u001b[1;33m)\u001b[0m\u001b[1;33m\u001b[0m\u001b[1;33m\u001b[0m\u001b[0m\n\u001b[0m",
      "\u001b[1;32m<ipython-input-4-5fb3dd2bb220>\u001b[0m in \u001b[0;36mlisty\u001b[1;34m()\u001b[0m\n\u001b[0;32m      3\u001b[0m     \u001b[0mnum\u001b[0m\u001b[1;33m=\u001b[0m\u001b[0meval\u001b[0m\u001b[1;33m(\u001b[0m\u001b[0minput\u001b[0m\u001b[1;33m(\u001b[0m\u001b[1;34m\"Input a list of even numbers: \"\u001b[0m\u001b[1;33m)\u001b[0m\u001b[1;33m)\u001b[0m\u001b[1;33m\u001b[0m\u001b[1;33m\u001b[0m\u001b[0m\n\u001b[0;32m      4\u001b[0m \u001b[1;33m\u001b[0m\u001b[0m\n\u001b[1;32m----> 5\u001b[1;33m     \u001b[1;32mfor\u001b[0m \u001b[0mi\u001b[0m \u001b[1;32min\u001b[0m \u001b[0mnum\u001b[0m\u001b[1;33m:\u001b[0m\u001b[1;33m\u001b[0m\u001b[1;33m\u001b[0m\u001b[0m\n\u001b[0m\u001b[0;32m      6\u001b[0m          \u001b[1;32mif\u001b[0m \u001b[1;33m(\u001b[0m\u001b[0mi\u001b[0m \u001b[1;33m%\u001b[0m \u001b[1;36m2\u001b[0m \u001b[1;33m==\u001b[0m \u001b[1;36m0\u001b[0m\u001b[1;33m)\u001b[0m\u001b[1;33m:\u001b[0m\u001b[1;33m\u001b[0m\u001b[1;33m\u001b[0m\u001b[0m\n\u001b[0;32m      7\u001b[0m             \u001b[0msum\u001b[0m\u001b[1;33m(\u001b[0m\u001b[0mi\u001b[0m\u001b[1;33m)\u001b[0m\u001b[1;33m\u001b[0m\u001b[1;33m\u001b[0m\u001b[0m\n",
      "\u001b[1;31mTypeError\u001b[0m: 'int' object is not iterable"
     ]
    }
   ],
   "source": [
    "# time taken : 9 minutes\n",
    "def listy():\n",
    "    num=eval(input(\"Input a list of even numbers: \"))\n",
    "\n",
    "    for i in num:\n",
    "         if (i % 2 == 0):\n",
    "            sum(i)\n",
    "         else:\n",
    "            print(\"sorry no even number found.\")\n",
    "listy()"
   ]
  },
  {
   "cell_type": "markdown",
   "metadata": {},
   "source": [
    "# Question 5: \n",
    "Write a function which can take a list of numbers and it will return sorted list."
   ]
  },
  {
   "cell_type": "code",
   "execution_count": 5,
   "metadata": {},
   "outputs": [
    {
     "name": "stdout",
     "output_type": "stream",
     "text": [
      "Enter a list of different numbers: 6534\n"
     ]
    },
    {
     "ename": "AttributeError",
     "evalue": "'int' object has no attribute 'sort'",
     "output_type": "error",
     "traceback": [
      "\u001b[1;31m---------------------------------------------------------------------------\u001b[0m",
      "\u001b[1;31mAttributeError\u001b[0m                            Traceback (most recent call last)",
      "\u001b[1;32m<ipython-input-5-430f985a2980>\u001b[0m in \u001b[0;36m<module>\u001b[1;34m\u001b[0m\n\u001b[0;32m      3\u001b[0m     \u001b[0mnum\u001b[0m\u001b[1;33m=\u001b[0m\u001b[0meval\u001b[0m\u001b[1;33m(\u001b[0m\u001b[0minput\u001b[0m\u001b[1;33m(\u001b[0m\u001b[1;34m\"Enter a list of different numbers: \"\u001b[0m\u001b[1;33m)\u001b[0m\u001b[1;33m)\u001b[0m\u001b[1;33m\u001b[0m\u001b[1;33m\u001b[0m\u001b[0m\n\u001b[0;32m      4\u001b[0m     \u001b[0mprint\u001b[0m\u001b[1;33m(\u001b[0m\u001b[0mnum\u001b[0m\u001b[1;33m.\u001b[0m\u001b[0msort\u001b[0m\u001b[1;33m(\u001b[0m\u001b[1;33m)\u001b[0m\u001b[1;33m)\u001b[0m\u001b[1;33m\u001b[0m\u001b[1;33m\u001b[0m\u001b[0m\n\u001b[1;32m----> 5\u001b[1;33m \u001b[0mrandom_numb\u001b[0m\u001b[1;33m(\u001b[0m\u001b[1;33m)\u001b[0m\u001b[1;33m\u001b[0m\u001b[1;33m\u001b[0m\u001b[0m\n\u001b[0m",
      "\u001b[1;32m<ipython-input-5-430f985a2980>\u001b[0m in \u001b[0;36mrandom_numb\u001b[1;34m()\u001b[0m\n\u001b[0;32m      2\u001b[0m \u001b[1;32mdef\u001b[0m \u001b[0mrandom_numb\u001b[0m\u001b[1;33m(\u001b[0m\u001b[1;33m)\u001b[0m\u001b[1;33m:\u001b[0m\u001b[1;33m\u001b[0m\u001b[1;33m\u001b[0m\u001b[0m\n\u001b[0;32m      3\u001b[0m     \u001b[0mnum\u001b[0m\u001b[1;33m=\u001b[0m\u001b[0meval\u001b[0m\u001b[1;33m(\u001b[0m\u001b[0minput\u001b[0m\u001b[1;33m(\u001b[0m\u001b[1;34m\"Enter a list of different numbers: \"\u001b[0m\u001b[1;33m)\u001b[0m\u001b[1;33m)\u001b[0m\u001b[1;33m\u001b[0m\u001b[1;33m\u001b[0m\u001b[0m\n\u001b[1;32m----> 4\u001b[1;33m     \u001b[0mprint\u001b[0m\u001b[1;33m(\u001b[0m\u001b[0mnum\u001b[0m\u001b[1;33m.\u001b[0m\u001b[0msort\u001b[0m\u001b[1;33m(\u001b[0m\u001b[1;33m)\u001b[0m\u001b[1;33m)\u001b[0m\u001b[1;33m\u001b[0m\u001b[1;33m\u001b[0m\u001b[0m\n\u001b[0m\u001b[0;32m      5\u001b[0m \u001b[0mrandom_numb\u001b[0m\u001b[1;33m(\u001b[0m\u001b[1;33m)\u001b[0m\u001b[1;33m\u001b[0m\u001b[1;33m\u001b[0m\u001b[0m\n",
      "\u001b[1;31mAttributeError\u001b[0m: 'int' object has no attribute 'sort'"
     ]
    }
   ],
   "source": [
    "# time taken : 3 minutes\n",
    "def random_numb():\n",
    "    num=eval(input(\"Enter a list of different numbers: \"))\n",
    "    print(num.sort())\n",
    "random_numb()"
   ]
  },
  {
   "cell_type": "markdown",
   "metadata": {},
   "source": [
    "# Question 6: \n",
    "Write a function that will take the radius and return the perimeter and area of circle with 5% increment."
   ]
  },
  {
   "cell_type": "code",
   "execution_count": 6,
   "metadata": {},
   "outputs": [
    {
     "name": "stdout",
     "output_type": "stream",
     "text": [
      "Enter Radius of the Circle: 4\n",
      "The perimeter of the circle is: 25.132741228718345 \n",
      "The area of circle with 5% increment is:  50.31548245743669\n"
     ]
    }
   ],
   "source": [
    "# time taken : 4 minutes\n",
    "def area_of_circle():\n",
    "    import math\n",
    "    r=int(input(\"Enter Radius of the Circle: \"))\n",
    "    from math import pi\n",
    "    c=2*pi*r\n",
    "    area= (pi*r**2)+0.05\n",
    "    print(\"The perimeter of the circle is:\", c,\"\\nThe area of circle with 5% increment is: \", area)\n",
    "area_of_circle()"
   ]
  },
  {
   "cell_type": "markdown",
   "metadata": {},
   "source": [
    "# Question 7:\n",
    "Write a function that will take the strings as argument and return number of vowels and consonants."
   ]
  },
  {
   "cell_type": "code",
   "execution_count": 7,
   "metadata": {},
   "outputs": [
    {
     "name": "stdout",
     "output_type": "stream",
     "text": [
      "Enter a sentence: It is a lovely day today\n",
      "Total Number of Vowels in this String =  8\n",
      "Total Number of Consonants in this String =  16\n"
     ]
    }
   ],
   "source": [
    "# time taken : 7 minutes\n",
    "def my_function():\n",
    "    string=str(input(\"Enter a sentence: \"))\n",
    "    string.split()\n",
    "    vowels = 0\n",
    "    consonants = 0\n",
    "    for i in string:\n",
    "        if(i == 'a' or i == 'e' or i == 'i' or i == 'o' or i == 'u'\n",
    "               or i == 'A' or i == 'E' or i == 'I' or i == 'O' or i == 'U'):\n",
    "            vowels = vowels + 1\n",
    "        else:\n",
    "            consonants = consonants + 1\n",
    " \n",
    "    print(\"Total Number of Vowels in this String = \", vowels)\n",
    "    print(\"Total Number of Consonants in this String = \", consonants)\n",
    "\n",
    "my_function()"
   ]
  },
  {
   "cell_type": "markdown",
   "metadata": {},
   "source": [
    "# Question 8:\n",
    "Write a function that will take length and breadth for a rectangle and return perimeter and area of rectangle with 8% increment."
   ]
  },
  {
   "cell_type": "code",
   "execution_count": 8,
   "metadata": {},
   "outputs": [
    {
     "name": "stdout",
     "output_type": "stream",
     "text": [
      "Enter length of a rectangle: 4\n",
      "Enter breadth of a rectangle: 5\n",
      "The perimeter of the rectangle is: 18 \n",
      "The area of rectangle with 8% increment is:  20.08\n"
     ]
    }
   ],
   "source": [
    "# time taken : 5 minutes\n",
    "def my_math():\n",
    "    l=int(input(\"Enter length of a rectangle: \"))\n",
    "    b=int(input(\"Enter breadth of a rectangle: \"))\n",
    "    peri=(l+b)*2\n",
    "    area= (l*b)+0.08\n",
    "    print(\"The perimeter of the rectangle is:\", peri,\"\\nThe area of rectangle with 8% increment is: \", area)\n",
    "my_math()"
   ]
  },
  {
   "cell_type": "markdown",
   "metadata": {},
   "source": [
    "# Question 9:\n",
    "Write a function that can take the numbers in strings. From string find which number is even and which one is odd. Save them in two different lists and generate the result."
   ]
  },
  {
   "cell_type": "code",
   "execution_count": 9,
   "metadata": {},
   "outputs": [
    {
     "name": "stdout",
     "output_type": "stream",
     "text": [
      "Enter Numbers: 3475\n"
     ]
    },
    {
     "ename": "TypeError",
     "evalue": "evn_odd() missing 1 required positional argument: 'lst'",
     "output_type": "error",
     "traceback": [
      "\u001b[1;31m---------------------------------------------------------------------------\u001b[0m",
      "\u001b[1;31mTypeError\u001b[0m                                 Traceback (most recent call last)",
      "\u001b[1;32m<ipython-input-9-3758507f7d88>\u001b[0m in \u001b[0;36m<module>\u001b[1;34m\u001b[0m\n\u001b[0;32m     19\u001b[0m     \u001b[0mprint\u001b[0m\u001b[1;33m(\u001b[0m\u001b[1;34m\"Even numbers in the list: \"\u001b[0m\u001b[1;33m,\u001b[0m \u001b[0meven\u001b[0m\u001b[1;33m)\u001b[0m\u001b[1;33m\u001b[0m\u001b[1;33m\u001b[0m\u001b[0m\n\u001b[0;32m     20\u001b[0m     \u001b[0mprint\u001b[0m\u001b[1;33m(\u001b[0m\u001b[1;34m\"Odd numbers in the list: \"\u001b[0m\u001b[1;33m,\u001b[0m \u001b[0modd\u001b[0m\u001b[1;33m)\u001b[0m\u001b[1;33m\u001b[0m\u001b[1;33m\u001b[0m\u001b[0m\n\u001b[1;32m---> 21\u001b[1;33m \u001b[0mevn_odd\u001b[0m\u001b[1;33m(\u001b[0m\u001b[1;33m)\u001b[0m\u001b[1;33m\u001b[0m\u001b[1;33m\u001b[0m\u001b[0m\n\u001b[0m",
      "\u001b[1;31mTypeError\u001b[0m: evn_odd() missing 1 required positional argument: 'lst'"
     ]
    }
   ],
   "source": [
    "lst= int(input(\"Enter Numbers: \"))\n",
    "def evn_odd(lst):\n",
    "    \n",
    "    even=[] \n",
    "    odd=[]\n",
    "            #= (input(\"Enter Numbers: \")) \n",
    "    lst.split()\n",
    "    even=0\n",
    "    odd = 0\n",
    "  # iterating each number in list \n",
    "    for i in lst: \n",
    "      # checking condition \n",
    "        if (i % 2 == 0): \n",
    "            even.append(i)\n",
    "  \n",
    "        else: \n",
    "            odd.append(i)\n",
    "          \n",
    "    print(\"Even numbers in the list: \", even) \n",
    "    print(\"Odd numbers in the list: \", odd)\n",
    "evn_odd()"
   ]
  },
  {
   "cell_type": "markdown",
   "metadata": {},
   "source": [
    "# Question 10:\n",
    "Write a function which will take the string from the user and return how many alphabets have been used in it and which alphabets are missing."
   ]
  },
  {
   "cell_type": "code",
   "execution_count": 11,
   "metadata": {},
   "outputs": [
    {
     "name": "stdout",
     "output_type": "stream",
     "text": [
      "Enter a sentence: it is a lovely day today\n"
     ]
    }
   ],
   "source": [
    "def string1():\n",
    "    alpha=str(input(\"Enter a sentence: \"))\n",
    "    alpha_letters = 'abcdefghijklmnopqrstuvwxyzABCDEFGHIJKLMNOPQRSTUVWXYZ'\n",
    "    alpha_lowercase = 'abcdefghijklmnopqrstuvwxyz'\n",
    "    alpha_uppercase = 'ABCDEFGHIJKLMNOPQRSTUVWXYZ'\n",
    "    \n",
    "    if (alpha in alpha_letters or alpha in alpha_lowercase or alpha in alpha_uppercase):\n",
    "        print(len(alpha))\n",
    "string1()"
   ]
  },
  {
   "cell_type": "markdown",
   "metadata": {},
   "source": [
    "# Question 11:\n",
    "Write a function that will take verbs in words and return a list of verbs with continuous tense by adding (ing) at the end of each verb."
   ]
  },
  {
   "cell_type": "code",
   "execution_count": 13,
   "metadata": {},
   "outputs": [
    {
     "name": "stdout",
     "output_type": "stream",
     "text": [
      "['doing', 'watching', 'seeing', 'going']\n"
     ]
    }
   ],
   "source": [
    "def verb():\n",
    "    verb1=['do' ,'watch', 'see' ,'go' ]\n",
    "    x=['' ,'' ,'' , '']\n",
    "    for i in range(4):\n",
    "        k = 0\n",
    "    for y in verb1:\n",
    "        x[k]=y+\"ing\"\n",
    "        k= k+1\n",
    "    print(x)\n",
    "verb()"
   ]
  },
  {
   "cell_type": "markdown",
   "metadata": {},
   "source": [
    "# Question 12: \n",
    "Make a function which can take two radius of circles and find the areas of it and subtract smaller one from larger one and tell the remaining area of circle.\n",
    "\n"
   ]
  },
  {
   "cell_type": "code",
   "execution_count": 14,
   "metadata": {
    "scrolled": true
   },
   "outputs": [
    {
     "name": "stdout",
     "output_type": "stream",
     "text": [
      "Input radius of circle 1 : 5\n",
      "Input radius of circle 2 : 6\n",
      "remaining shape area:  34.55751918948772\n"
     ]
    }
   ],
   "source": [
    "\n",
    "def area_of_circle():\n",
    "    from math import pi\n",
    "    r1 = int(input(\"Input radius of circle 1 : \"))\n",
    "    r2 = int(input(\"Input radius of circle 2 : \"))\n",
    "    area1=pi*r1**2\n",
    "    area2=pi*r2**2\n",
    "    if r1>r2:\n",
    "        x(r1-r2)\n",
    "    elif r2<=r1:\n",
    "        x(r2-r1)\n",
    "    else:\n",
    "        pass\n",
    "    area=area2-area1\n",
    "\n",
    "    print(\"remaining shape area: \", area)\n",
    "area_of_circle()"
   ]
  },
  {
   "cell_type": "markdown",
   "metadata": {},
   "source": [
    "# Question 13: \n",
    "Write a function that will take a string and calculate number of Upper case letters and lower case letters."
   ]
  },
  {
   "cell_type": "code",
   "execution_count": null,
   "metadata": {},
   "outputs": [],
   "source": [
    "\n",
    "def function(a):\n",
    "    a=(input(\"Enter a sentence: \"))\n",
    "    x={\"UPPER_CASE\":0, \"LOWER_CASE\":0}\n",
    "    for i in a:\n",
    "        if i.isupper():\n",
    "            x[\"UPPER_CASE\"]+=1\n",
    "        elif i.islower():\n",
    "            x[\"LOWER_CASE\"]+=1\n",
    "        else:\n",
    "            pass\n",
    "    print (\"Original String : \", a )\n",
    "    print (\"No. of Upper case letters : \", x[\"UPPER_CASE\"])\n",
    "    print (\"No. of Lower case letters : \", x[\"LOWER_CASE\"])\n",
    "\n",
    "function('a')"
   ]
  },
  {
   "cell_type": "markdown",
   "metadata": {},
   "source": [
    "# Question 14: \n",
    "Write a function which will take length and breadth of two rectangles. Subtract the smaller rectangle from the larger rectangle and return the area left behind."
   ]
  },
  {
   "cell_type": "code",
   "execution_count": 12,
   "metadata": {},
   "outputs": [
    {
     "name": "stdout",
     "output_type": "stream",
     "text": [
      "Input length of rectangle 1 : 5\n",
      "Input breath of rectangle 1: 3\n",
      "input length of rectangle 2 : 7\n",
      "input breath of rectangle 2 : 4\n",
      "remaining area:  13\n"
     ]
    }
   ],
   "source": [
    "\n",
    "def remain():\n",
    "    from math import pi\n",
    "    l1 = int(input(\"Input length of rectangle 1 : \"))\n",
    "    b1 = int(input(\"Input breath of rectangle 1: \"))\n",
    "    l2 = int(input(\"input length of rectangle 2 : \"))\n",
    "    b2 = int(input(\"input breath of rectangle 2 : \"))\n",
    "    a1=l1*b1\n",
    "    a2=l2*b2\n",
    "    if a1>a2:\n",
    "        (a1-a2)\n",
    "    elif a2<=a1:\n",
    "        (a2-a1)\n",
    "    else:\n",
    "        pass\n",
    "    area=a2-a1\n",
    "\n",
    "    print(\"remaining area: \", area)\n",
    "remain()"
   ]
  },
  {
   "cell_type": "markdown",
   "metadata": {},
   "source": [
    "# Question 16:\n",
    "Write a function which will take height and base for a triangle and"
   ]
  },
  {
   "cell_type": "code",
   "execution_count": null,
   "metadata": {},
   "outputs": [],
   "source": [
    "\n",
    "def triangle():\n",
    "    b = int(input(\"Input the base : \"))\n",
    "    h = int(input(\"Input the height : \"))\n",
    "\n",
    "    area = b*h/2\n",
    "\n",
    "    print(\"area = \", area)\n",
    "triangle()"
   ]
  },
  {
   "cell_type": "markdown",
   "metadata": {},
   "source": [
    "# Question 18:\n",
    "Write a function that can take square length and radius of circle. Find the area of both and subtract the smallest shape from largest one and return the remaining shape area."
   ]
  },
  {
   "cell_type": "code",
   "execution_count": null,
   "metadata": {},
   "outputs": [],
   "source": [
    "def area():\n",
    "    from math import pi\n",
    "\n",
    "    s=int(input(\"Enter length of square:\"))\n",
    "    area1=int(s**2)\n",
    "\n",
    "    r=int(input(\"Enter radius of a circle: \"))\n",
    "    area2=pi*r**2\n",
    "\n",
    "    if area1>area2:\n",
    "        (area1-area2)\n",
    "    elif area2>area1:\n",
    "        (area2-area1)\n",
    "    else:\n",
    "        pass\n",
    "    areas=area2-area1\n",
    "    print(\"The remaining shape area is:\" , areas)\n",
    "area()"
   ]
  },
  {
   "cell_type": "code",
   "execution_count": null,
   "metadata": {},
   "outputs": [],
   "source": []
  }
 ],
 "metadata": {
  "kernelspec": {
   "display_name": "Python 3",
   "language": "python",
   "name": "python3"
  },
  "language_info": {
   "codemirror_mode": {
    "name": "ipython",
    "version": 3
   },
   "file_extension": ".py",
   "mimetype": "text/x-python",
   "name": "python",
   "nbconvert_exporter": "python",
   "pygments_lexer": "ipython3",
   "version": "3.7.3"
  }
 },
 "nbformat": 4,
 "nbformat_minor": 2
}
